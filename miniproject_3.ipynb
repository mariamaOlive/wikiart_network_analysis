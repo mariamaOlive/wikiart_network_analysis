{
 "cells": [
  {
   "cell_type": "markdown",
   "metadata": {},
   "source": [
    "# Painters' Network Analysis\n",
    "\n",
    "Author: Mariama Oliveira\n",
    "\n",
    "This notebook contains the analysis of the painters featured on the [WikiArt](https://www.wikiart.org/) page. The primary objective is to examine the relationships between artists, art movements, and artworks. Through this analysis, we aim to gain understanding and insights into various perspectives of art."
   ]
  },
  {
   "cell_type": "markdown",
   "metadata": {},
   "source": [
    "## Loading libraries and datasets"
   ]
  },
  {
   "cell_type": "markdown",
   "metadata": {},
   "source": [
    "Libraries"
   ]
  },
  {
   "cell_type": "code",
   "execution_count": 1,
   "metadata": {},
   "outputs": [],
   "source": [
    "import pandas as pd\n",
    "import seaborn as sns\n",
    "import matplotlib.pyplot as plt\n",
    "import networkx as nx\n",
    "import re\n",
    "import scipy.stats as stats"
   ]
  },
  {
   "cell_type": "markdown",
   "metadata": {},
   "source": [
    "Loading data"
   ]
  },
  {
   "cell_type": "code",
   "execution_count": 2,
   "metadata": {},
   "outputs": [
    {
     "name": "stdout",
     "output_type": "stream",
     "text": [
      "df_artists has 2996 rows and 7 features\n",
      "df_relationships has 2996 rows and 8 features\n",
      "df_institutions has 73 rows and 4 features\n",
      "df_schools has 220 rows and 2 features\n"
     ]
    }
   ],
   "source": [
    "# Artists data \n",
    "df_artists = pd.read_csv(\"data/artists.csv\")\n",
    "# Artists' relationships\n",
    "df_relationships = pd.read_csv(\"data/relationships.csv\")\n",
    "# Institutions data\n",
    "df_institutions = pd.read_csv(\"data/institutions.csv\")\n",
    "# Artists' relationships\n",
    "df_schools = pd.read_csv(\"data/schools.csv\")\n",
    "\n",
    "size_artists = df_artists.shape\n",
    "size_relationships = df_relationships.shape\n",
    "size_institutions = df_institutions.shape\n",
    "size_schools = df_schools.shape\n",
    "\n",
    "print(f\"df_artists has {size_artists[0]} rows and {size_artists[1]} features\")\n",
    "print(f\"df_relationships has {size_relationships[0]} rows and {size_relationships[1]} features\")\n",
    "print(f\"df_institutions has {size_institutions[0]} rows and {size_institutions[1]} features\")\n",
    "print(f\"df_schools has {size_schools[0]} rows and {size_schools[1]} features\")"
   ]
  },
  {
   "cell_type": "code",
   "execution_count": 3,
   "metadata": {},
   "outputs": [
    {
     "data": {
      "text/html": [
       "<div>\n",
       "<style scoped>\n",
       "    .dataframe tbody tr th:only-of-type {\n",
       "        vertical-align: middle;\n",
       "    }\n",
       "\n",
       "    .dataframe tbody tr th {\n",
       "        vertical-align: top;\n",
       "    }\n",
       "\n",
       "    .dataframe thead th {\n",
       "        text-align: right;\n",
       "    }\n",
       "</style>\n",
       "<table border=\"1\" class=\"dataframe\">\n",
       "  <thead>\n",
       "    <tr style=\"text-align: right;\">\n",
       "      <th></th>\n",
       "      <th>artistUrl</th>\n",
       "      <th>id</th>\n",
       "      <th>image</th>\n",
       "      <th>nation</th>\n",
       "      <th>title</th>\n",
       "      <th>totalWorksTitle</th>\n",
       "      <th>year</th>\n",
       "    </tr>\n",
       "  </thead>\n",
       "  <tbody>\n",
       "    <tr>\n",
       "      <th>0</th>\n",
       "      <td>/en/ancient-egyptian-painting</td>\n",
       "      <td>5d230b31edc2c9fb74ae130a</td>\n",
       "      <td>https://uploads2.wikiart.org/00244/images/anci...</td>\n",
       "      <td>Egyptians</td>\n",
       "      <td>Ancient Egypt</td>\n",
       "      <td>169 artworks</td>\n",
       "      <td>c.3150 BC - c.640 AD</td>\n",
       "    </tr>\n",
       "    <tr>\n",
       "      <th>1</th>\n",
       "      <td>/en/ancient-greek-pottery</td>\n",
       "      <td>5ced09b1edc2c993247c1ea0</td>\n",
       "      <td>https://uploads7.wikiart.org/00238/images/anci...</td>\n",
       "      <td>Greeks</td>\n",
       "      <td>Ancient Greek Pottery</td>\n",
       "      <td>87 artworks</td>\n",
       "      <td>c.900 - 31 BC</td>\n",
       "    </tr>\n",
       "    <tr>\n",
       "      <th>2</th>\n",
       "      <td>/en/ancient-greek-painting</td>\n",
       "      <td>5ce3c54dedc2c921c4035b7d</td>\n",
       "      <td>https://uploads8.wikiart.org/00237/images/anci...</td>\n",
       "      <td>Greeks</td>\n",
       "      <td>Ancient Greek Painting and Sculpture</td>\n",
       "      <td>76 artworks</td>\n",
       "      <td>c.700 - c.31 BC</td>\n",
       "    </tr>\n",
       "  </tbody>\n",
       "</table>\n",
       "</div>"
      ],
      "text/plain": [
       "                       artistUrl                        id  \\\n",
       "0  /en/ancient-egyptian-painting  5d230b31edc2c9fb74ae130a   \n",
       "1      /en/ancient-greek-pottery  5ced09b1edc2c993247c1ea0   \n",
       "2     /en/ancient-greek-painting  5ce3c54dedc2c921c4035b7d   \n",
       "\n",
       "                                               image     nation  \\\n",
       "0  https://uploads2.wikiart.org/00244/images/anci...  Egyptians   \n",
       "1  https://uploads7.wikiart.org/00238/images/anci...     Greeks   \n",
       "2  https://uploads8.wikiart.org/00237/images/anci...     Greeks   \n",
       "\n",
       "                                  title totalWorksTitle                  year  \n",
       "0                         Ancient Egypt    169 artworks  c.3150 BC - c.640 AD  \n",
       "1                 Ancient Greek Pottery     87 artworks         c.900 - 31 BC  \n",
       "2  Ancient Greek Painting and Sculpture     76 artworks       c.700 - c.31 BC  "
      ]
     },
     "execution_count": 3,
     "metadata": {},
     "output_type": "execute_result"
    }
   ],
   "source": [
    "df_artists.head(3)"
   ]
  },
  {
   "cell_type": "code",
   "execution_count": 4,
   "metadata": {},
   "outputs": [
    {
     "data": {
      "text/html": [
       "<div>\n",
       "<style scoped>\n",
       "    .dataframe tbody tr th:only-of-type {\n",
       "        vertical-align: middle;\n",
       "    }\n",
       "\n",
       "    .dataframe tbody tr th {\n",
       "        vertical-align: top;\n",
       "    }\n",
       "\n",
       "    .dataframe thead th {\n",
       "        text-align: right;\n",
       "    }\n",
       "</style>\n",
       "<table border=\"1\" class=\"dataframe\">\n",
       "  <thead>\n",
       "    <tr style=\"text-align: right;\">\n",
       "      <th></th>\n",
       "      <th>artistUrl</th>\n",
       "      <th>friends</th>\n",
       "      <th>influenced_by</th>\n",
       "      <th>influenced_on</th>\n",
       "      <th>institution</th>\n",
       "      <th>movements</th>\n",
       "      <th>school</th>\n",
       "      <th>type</th>\n",
       "    </tr>\n",
       "  </thead>\n",
       "  <tbody>\n",
       "    <tr>\n",
       "      <th>0</th>\n",
       "      <td>/en/apelles</td>\n",
       "      <td>NaN</td>\n",
       "      <td>/en/ancient-greek-painting</td>\n",
       "      <td>/en/ancient-greek-painting</td>\n",
       "      <td>NaN</td>\n",
       "      <td>Classical Period (480 - 323 BC),Hellenistic Pe...</td>\n",
       "      <td>/en/artists-by-painting-school/heptanese-ionia...</td>\n",
       "      <td>Artists</td>\n",
       "    </tr>\n",
       "    <tr>\n",
       "      <th>1</th>\n",
       "      <td>/en/wang-wei</td>\n",
       "      <td>NaN</td>\n",
       "      <td>NaN</td>\n",
       "      <td>NaN</td>\n",
       "      <td>NaN</td>\n",
       "      <td>Tang Dynasty (618–907)</td>\n",
       "      <td>NaN</td>\n",
       "      <td>Artists</td>\n",
       "    </tr>\n",
       "    <tr>\n",
       "      <th>2</th>\n",
       "      <td>/en/ancient-egyptian-painting</td>\n",
       "      <td>NaN</td>\n",
       "      <td>NaN</td>\n",
       "      <td>/en/fayum-portrait,/en/ancient-greek-painting,...</td>\n",
       "      <td>NaN</td>\n",
       "      <td>Early Dynastic Period (3150 – 2686 BC),Old Kin...</td>\n",
       "      <td>NaN</td>\n",
       "      <td>Collections</td>\n",
       "    </tr>\n",
       "  </tbody>\n",
       "</table>\n",
       "</div>"
      ],
      "text/plain": [
       "                       artistUrl friends               influenced_by  \\\n",
       "0                    /en/apelles     NaN  /en/ancient-greek-painting   \n",
       "1                   /en/wang-wei     NaN                         NaN   \n",
       "2  /en/ancient-egyptian-painting     NaN                         NaN   \n",
       "\n",
       "                                       influenced_on institution  \\\n",
       "0                         /en/ancient-greek-painting         NaN   \n",
       "1                                                NaN         NaN   \n",
       "2  /en/fayum-portrait,/en/ancient-greek-painting,...         NaN   \n",
       "\n",
       "                                           movements  \\\n",
       "0  Classical Period (480 - 323 BC),Hellenistic Pe...   \n",
       "1                             Tang Dynasty (618–907)   \n",
       "2  Early Dynastic Period (3150 – 2686 BC),Old Kin...   \n",
       "\n",
       "                                              school         type  \n",
       "0  /en/artists-by-painting-school/heptanese-ionia...      Artists  \n",
       "1                                                NaN      Artists  \n",
       "2                                                NaN  Collections  "
      ]
     },
     "execution_count": 4,
     "metadata": {},
     "output_type": "execute_result"
    }
   ],
   "source": [
    "df_relationships.head(3)"
   ]
  },
  {
   "cell_type": "code",
   "execution_count": 5,
   "metadata": {},
   "outputs": [
    {
     "data": {
      "text/html": [
       "<div>\n",
       "<style scoped>\n",
       "    .dataframe tbody tr th:only-of-type {\n",
       "        vertical-align: middle;\n",
       "    }\n",
       "\n",
       "    .dataframe tbody tr th {\n",
       "        vertical-align: top;\n",
       "    }\n",
       "\n",
       "    .dataframe thead th {\n",
       "        text-align: right;\n",
       "    }\n",
       "</style>\n",
       "<table border=\"1\" class=\"dataframe\">\n",
       "  <thead>\n",
       "    <tr style=\"text-align: right;\">\n",
       "      <th></th>\n",
       "      <th>city</th>\n",
       "      <th>country</th>\n",
       "      <th>title</th>\n",
       "      <th>url</th>\n",
       "    </tr>\n",
       "  </thead>\n",
       "  <tbody>\n",
       "    <tr>\n",
       "      <th>0</th>\n",
       "      <td>NaN</td>\n",
       "      <td>NaN</td>\n",
       "      <td>Guild of Saint Luke</td>\n",
       "      <td>/en/artists-by-art-institution/guild-of-saint-...</td>\n",
       "    </tr>\n",
       "    <tr>\n",
       "      <th>1</th>\n",
       "      <td>Antwerp</td>\n",
       "      <td>Belgium</td>\n",
       "      <td>Royal Academy of Fine Arts</td>\n",
       "      <td>/en/artists-by-art-institution/royal-academy-o...</td>\n",
       "    </tr>\n",
       "    <tr>\n",
       "      <th>2</th>\n",
       "      <td>Munich</td>\n",
       "      <td>Germany</td>\n",
       "      <td>Akademie der Bildenden Künste München (Munich ...</td>\n",
       "      <td>/en/artists-by-art-institution/akademie-der</td>\n",
       "    </tr>\n",
       "  </tbody>\n",
       "</table>\n",
       "</div>"
      ],
      "text/plain": [
       "      city  country                                              title  \\\n",
       "0      NaN      NaN                                Guild of Saint Luke   \n",
       "1  Antwerp  Belgium                         Royal Academy of Fine Arts   \n",
       "2   Munich  Germany  Akademie der Bildenden Künste München (Munich ...   \n",
       "\n",
       "                                                 url  \n",
       "0  /en/artists-by-art-institution/guild-of-saint-...  \n",
       "1  /en/artists-by-art-institution/royal-academy-o...  \n",
       "2        /en/artists-by-art-institution/akademie-der  "
      ]
     },
     "execution_count": 5,
     "metadata": {},
     "output_type": "execute_result"
    }
   ],
   "source": [
    "df_institutions.head(3)"
   ]
  },
  {
   "cell_type": "code",
   "execution_count": 6,
   "metadata": {},
   "outputs": [
    {
     "data": {
      "text/html": [
       "<div>\n",
       "<style scoped>\n",
       "    .dataframe tbody tr th:only-of-type {\n",
       "        vertical-align: middle;\n",
       "    }\n",
       "\n",
       "    .dataframe tbody tr th {\n",
       "        vertical-align: top;\n",
       "    }\n",
       "\n",
       "    .dataframe thead th {\n",
       "        text-align: right;\n",
       "    }\n",
       "</style>\n",
       "<table border=\"1\" class=\"dataframe\">\n",
       "  <thead>\n",
       "    <tr style=\"text-align: right;\">\n",
       "      <th></th>\n",
       "      <th>title</th>\n",
       "      <th>url</th>\n",
       "    </tr>\n",
       "  </thead>\n",
       "  <tbody>\n",
       "    <tr>\n",
       "      <th>0</th>\n",
       "      <td>Flemish School</td>\n",
       "      <td>/en/artists-by-painting-school/flemish-school</td>\n",
       "    </tr>\n",
       "    <tr>\n",
       "      <th>1</th>\n",
       "      <td>Sienese School</td>\n",
       "      <td>/en/artists-by-painting-school/sienese-school</td>\n",
       "    </tr>\n",
       "    <tr>\n",
       "      <th>2</th>\n",
       "      <td>Umbrian school</td>\n",
       "      <td>/en/artists-by-painting-school/umbrian-school</td>\n",
       "    </tr>\n",
       "  </tbody>\n",
       "</table>\n",
       "</div>"
      ],
      "text/plain": [
       "            title                                            url\n",
       "0  Flemish School  /en/artists-by-painting-school/flemish-school\n",
       "1  Sienese School  /en/artists-by-painting-school/sienese-school\n",
       "2  Umbrian school  /en/artists-by-painting-school/umbrian-school"
      ]
     },
     "execution_count": 6,
     "metadata": {},
     "output_type": "execute_result"
    }
   ],
   "source": [
    "df_schools.head(3)"
   ]
  },
  {
   "cell_type": "markdown",
   "metadata": {},
   "source": [
    "## Preprocessing  and EDA"
   ]
  },
  {
   "cell_type": "markdown",
   "metadata": {},
   "source": [
    "Merging data "
   ]
  },
  {
   "cell_type": "code",
   "execution_count": 7,
   "metadata": {},
   "outputs": [
    {
     "data": {
      "text/html": [
       "<div>\n",
       "<style scoped>\n",
       "    .dataframe tbody tr th:only-of-type {\n",
       "        vertical-align: middle;\n",
       "    }\n",
       "\n",
       "    .dataframe tbody tr th {\n",
       "        vertical-align: top;\n",
       "    }\n",
       "\n",
       "    .dataframe thead th {\n",
       "        text-align: right;\n",
       "    }\n",
       "</style>\n",
       "<table border=\"1\" class=\"dataframe\">\n",
       "  <thead>\n",
       "    <tr style=\"text-align: right;\">\n",
       "      <th></th>\n",
       "      <th>artistUrl</th>\n",
       "      <th>id</th>\n",
       "      <th>image</th>\n",
       "      <th>nation</th>\n",
       "      <th>title</th>\n",
       "      <th>totalWorksTitle</th>\n",
       "      <th>year</th>\n",
       "      <th>friends</th>\n",
       "      <th>influenced_by</th>\n",
       "      <th>influenced_on</th>\n",
       "      <th>institution</th>\n",
       "      <th>movements</th>\n",
       "      <th>school</th>\n",
       "      <th>type</th>\n",
       "    </tr>\n",
       "  </thead>\n",
       "  <tbody>\n",
       "    <tr>\n",
       "      <th>0</th>\n",
       "      <td>/en/ancient-egyptian-painting</td>\n",
       "      <td>5d230b31edc2c9fb74ae130a</td>\n",
       "      <td>https://uploads2.wikiart.org/00244/images/anci...</td>\n",
       "      <td>Egyptians</td>\n",
       "      <td>Ancient Egypt</td>\n",
       "      <td>169 artworks</td>\n",
       "      <td>c.3150 BC - c.640 AD</td>\n",
       "      <td>NaN</td>\n",
       "      <td>NaN</td>\n",
       "      <td>/en/fayum-portrait,/en/ancient-greek-painting,...</td>\n",
       "      <td>NaN</td>\n",
       "      <td>Early Dynastic Period (3150 – 2686 BC),Old Kin...</td>\n",
       "      <td>NaN</td>\n",
       "      <td>Collections</td>\n",
       "    </tr>\n",
       "    <tr>\n",
       "      <th>1</th>\n",
       "      <td>/en/ancient-greek-pottery</td>\n",
       "      <td>5ced09b1edc2c993247c1ea0</td>\n",
       "      <td>https://uploads7.wikiart.org/00238/images/anci...</td>\n",
       "      <td>Greeks</td>\n",
       "      <td>Ancient Greek Pottery</td>\n",
       "      <td>87 artworks</td>\n",
       "      <td>c.900 - 31 BC</td>\n",
       "      <td>NaN</td>\n",
       "      <td>/en/ancient-greek-painting,/en/ancient-egyptia...</td>\n",
       "      <td>/en/ancient-greek-painting</td>\n",
       "      <td>NaN</td>\n",
       "      <td>Geometric Period (c.900 - c.700 BC),Archaic Pe...</td>\n",
       "      <td>NaN</td>\n",
       "      <td>Collections</td>\n",
       "    </tr>\n",
       "    <tr>\n",
       "      <th>2</th>\n",
       "      <td>/en/ancient-greek-painting</td>\n",
       "      <td>5ce3c54dedc2c921c4035b7d</td>\n",
       "      <td>https://uploads8.wikiart.org/00237/images/anci...</td>\n",
       "      <td>Greeks</td>\n",
       "      <td>Ancient Greek Painting and Sculpture</td>\n",
       "      <td>76 artworks</td>\n",
       "      <td>c.700 - c.31 BC</td>\n",
       "      <td>NaN</td>\n",
       "      <td>/en/apelles,/en/ancient-greek-pottery,/en/anci...</td>\n",
       "      <td>/en/fayum-portrait,/en/apelles,/en/ancient-gre...</td>\n",
       "      <td>NaN</td>\n",
       "      <td>Archaic Period (700-480 BC),Classical Period (...</td>\n",
       "      <td>NaN</td>\n",
       "      <td>Collections</td>\n",
       "    </tr>\n",
       "    <tr>\n",
       "      <th>3</th>\n",
       "      <td>/en/apelles</td>\n",
       "      <td>5ba232ccedc2c918cc654ea8</td>\n",
       "      <td>https://uploads2.wikiart.org/00202/images/apel...</td>\n",
       "      <td>Greek</td>\n",
       "      <td>Apelles</td>\n",
       "      <td>8 artworks</td>\n",
       "      <td>born c.370 BC</td>\n",
       "      <td>NaN</td>\n",
       "      <td>/en/ancient-greek-painting</td>\n",
       "      <td>/en/ancient-greek-painting</td>\n",
       "      <td>NaN</td>\n",
       "      <td>Classical Period (480 - 323 BC),Hellenistic Pe...</td>\n",
       "      <td>/en/artists-by-painting-school/heptanese-ionia...</td>\n",
       "      <td>Artists</td>\n",
       "    </tr>\n",
       "    <tr>\n",
       "      <th>4</th>\n",
       "      <td>/en/fayum-portrait</td>\n",
       "      <td>5beea1ededc2c915a01acdda</td>\n",
       "      <td>https://uploads7.wikiart.org/00210/images//01....</td>\n",
       "      <td>Egyptians</td>\n",
       "      <td>Fayum portrait</td>\n",
       "      <td>76 artworks</td>\n",
       "      <td>c.50 - c.250</td>\n",
       "      <td>NaN</td>\n",
       "      <td>/en/ancient-greek-painting,/en/ancient-egyptia...</td>\n",
       "      <td>/en/orthodox-icons,/en/artists-by-art-movement...</td>\n",
       "      <td>NaN</td>\n",
       "      <td>Roman Period (30 BC - 640 AD),Coptic art</td>\n",
       "      <td>NaN</td>\n",
       "      <td>Collections</td>\n",
       "    </tr>\n",
       "  </tbody>\n",
       "</table>\n",
       "</div>"
      ],
      "text/plain": [
       "                       artistUrl                        id  \\\n",
       "0  /en/ancient-egyptian-painting  5d230b31edc2c9fb74ae130a   \n",
       "1      /en/ancient-greek-pottery  5ced09b1edc2c993247c1ea0   \n",
       "2     /en/ancient-greek-painting  5ce3c54dedc2c921c4035b7d   \n",
       "3                    /en/apelles  5ba232ccedc2c918cc654ea8   \n",
       "4             /en/fayum-portrait  5beea1ededc2c915a01acdda   \n",
       "\n",
       "                                               image     nation  \\\n",
       "0  https://uploads2.wikiart.org/00244/images/anci...  Egyptians   \n",
       "1  https://uploads7.wikiart.org/00238/images/anci...     Greeks   \n",
       "2  https://uploads8.wikiart.org/00237/images/anci...     Greeks   \n",
       "3  https://uploads2.wikiart.org/00202/images/apel...      Greek   \n",
       "4  https://uploads7.wikiart.org/00210/images//01....  Egyptians   \n",
       "\n",
       "                                  title totalWorksTitle                  year  \\\n",
       "0                         Ancient Egypt    169 artworks  c.3150 BC - c.640 AD   \n",
       "1                 Ancient Greek Pottery     87 artworks         c.900 - 31 BC   \n",
       "2  Ancient Greek Painting and Sculpture     76 artworks       c.700 - c.31 BC   \n",
       "3                               Apelles      8 artworks         born c.370 BC   \n",
       "4                        Fayum portrait     76 artworks          c.50 - c.250   \n",
       "\n",
       "  friends                                      influenced_by  \\\n",
       "0     NaN                                                NaN   \n",
       "1     NaN  /en/ancient-greek-painting,/en/ancient-egyptia...   \n",
       "2     NaN  /en/apelles,/en/ancient-greek-pottery,/en/anci...   \n",
       "3     NaN                         /en/ancient-greek-painting   \n",
       "4     NaN  /en/ancient-greek-painting,/en/ancient-egyptia...   \n",
       "\n",
       "                                       influenced_on institution  \\\n",
       "0  /en/fayum-portrait,/en/ancient-greek-painting,...         NaN   \n",
       "1                         /en/ancient-greek-painting         NaN   \n",
       "2  /en/fayum-portrait,/en/apelles,/en/ancient-gre...         NaN   \n",
       "3                         /en/ancient-greek-painting         NaN   \n",
       "4  /en/orthodox-icons,/en/artists-by-art-movement...         NaN   \n",
       "\n",
       "                                           movements  \\\n",
       "0  Early Dynastic Period (3150 – 2686 BC),Old Kin...   \n",
       "1  Geometric Period (c.900 - c.700 BC),Archaic Pe...   \n",
       "2  Archaic Period (700-480 BC),Classical Period (...   \n",
       "3  Classical Period (480 - 323 BC),Hellenistic Pe...   \n",
       "4           Roman Period (30 BC - 640 AD),Coptic art   \n",
       "\n",
       "                                              school         type  \n",
       "0                                                NaN  Collections  \n",
       "1                                                NaN  Collections  \n",
       "2                                                NaN  Collections  \n",
       "3  /en/artists-by-painting-school/heptanese-ionia...      Artists  \n",
       "4                                                NaN  Collections  "
      ]
     },
     "execution_count": 7,
     "metadata": {},
     "output_type": "execute_result"
    }
   ],
   "source": [
    "df = df_artists.merge(df_relationships)\n",
    "df.head()"
   ]
  },
  {
   "cell_type": "markdown",
   "metadata": {},
   "source": [
    "### Verifying data types"
   ]
  },
  {
   "cell_type": "code",
   "execution_count": 8,
   "metadata": {},
   "outputs": [
    {
     "data": {
      "text/plain": [
       "artistUrl          object\n",
       "id                 object\n",
       "image              object\n",
       "nation             object\n",
       "title              object\n",
       "totalWorksTitle    object\n",
       "year               object\n",
       "friends            object\n",
       "influenced_by      object\n",
       "influenced_on      object\n",
       "institution        object\n",
       "movements          object\n",
       "school             object\n",
       "type               object\n",
       "dtype: object"
      ]
     },
     "execution_count": 8,
     "metadata": {},
     "output_type": "execute_result"
    }
   ],
   "source": [
    "df.dtypes"
   ]
  },
  {
   "cell_type": "markdown",
   "metadata": {},
   "source": [
    "### Converting to the correct data type"
   ]
  },
  {
   "cell_type": "markdown",
   "metadata": {},
   "source": [
    "Numeric types"
   ]
  },
  {
   "cell_type": "markdown",
   "metadata": {},
   "source": [
    "We need to extract the numeric value of number of artworks that was initially stored as a string."
   ]
  },
  {
   "cell_type": "code",
   "execution_count": 9,
   "metadata": {},
   "outputs": [],
   "source": [
    "# Converting to int the number of artworks by artist\n",
    "df[\"totalWorksTitle\"] = df[\"totalWorksTitle\"].apply(lambda x: int(re.sub(r\" artwork(s*)\", \"\", x)))"
   ]
  },
  {
   "cell_type": "markdown",
   "metadata": {},
   "source": [
    "List types"
   ]
  },
  {
   "cell_type": "markdown",
   "metadata": {},
   "source": [
    "It is necessary to tranform a string of list into a list"
   ]
  },
  {
   "cell_type": "code",
   "execution_count": 10,
   "metadata": {},
   "outputs": [],
   "source": [
    "## Transforming attributes that are relationships into list of strings\n",
    "\n",
    "def  tranform_list(colunm_names):\n",
    "    for column in colunm_names:\n",
    "        df[column] = df.apply(lambda x: x[column] if pd.isnull(x[column]) else x[column].split(\",\"), axis=1)\n",
    "\n",
    "\n",
    "columns_relationships = [\"friends\", \"influenced_by\", \"influenced_on\", \"institution\", \"movements\", \"school\"]\n",
    "tranform_list(columns_relationships)"
   ]
  },
  {
   "cell_type": "markdown",
   "metadata": {},
   "source": [
    "### Verifying missing values in dataset"
   ]
  },
  {
   "cell_type": "code",
   "execution_count": 11,
   "metadata": {},
   "outputs": [],
   "source": [
    "def verify_missing_df(df): \n",
    "    percentage = round(100*(df.isnull().sum())/len(df), 2)\n",
    "    number_null = df.isnull().sum()\n",
    "    number_not_null = df.notnull().sum()\n",
    "    df_missing = pd.concat([number_not_null, number_null,percentage], axis=1)\n",
    "    columns = {0 : 'Non-missing Values', 1 : 'Missing Values', 2 : '%'}\n",
    "    df_missing = df_missing.rename(columns=columns)\n",
    "    return df_missing"
   ]
  },
  {
   "cell_type": "code",
   "execution_count": 12,
   "metadata": {},
   "outputs": [
    {
     "data": {
      "text/html": [
       "<div>\n",
       "<style scoped>\n",
       "    .dataframe tbody tr th:only-of-type {\n",
       "        vertical-align: middle;\n",
       "    }\n",
       "\n",
       "    .dataframe tbody tr th {\n",
       "        vertical-align: top;\n",
       "    }\n",
       "\n",
       "    .dataframe thead th {\n",
       "        text-align: right;\n",
       "    }\n",
       "</style>\n",
       "<table border=\"1\" class=\"dataframe\">\n",
       "  <thead>\n",
       "    <tr style=\"text-align: right;\">\n",
       "      <th></th>\n",
       "      <th>Non-missing Values</th>\n",
       "      <th>Missing Values</th>\n",
       "      <th>%</th>\n",
       "    </tr>\n",
       "  </thead>\n",
       "  <tbody>\n",
       "    <tr>\n",
       "      <th>artistUrl</th>\n",
       "      <td>2996</td>\n",
       "      <td>0</td>\n",
       "      <td>0.00</td>\n",
       "    </tr>\n",
       "    <tr>\n",
       "      <th>id</th>\n",
       "      <td>2996</td>\n",
       "      <td>0</td>\n",
       "      <td>0.00</td>\n",
       "    </tr>\n",
       "    <tr>\n",
       "      <th>image</th>\n",
       "      <td>2996</td>\n",
       "      <td>0</td>\n",
       "      <td>0.00</td>\n",
       "    </tr>\n",
       "    <tr>\n",
       "      <th>nation</th>\n",
       "      <td>2964</td>\n",
       "      <td>32</td>\n",
       "      <td>1.07</td>\n",
       "    </tr>\n",
       "    <tr>\n",
       "      <th>title</th>\n",
       "      <td>2996</td>\n",
       "      <td>0</td>\n",
       "      <td>0.00</td>\n",
       "    </tr>\n",
       "    <tr>\n",
       "      <th>totalWorksTitle</th>\n",
       "      <td>2996</td>\n",
       "      <td>0</td>\n",
       "      <td>0.00</td>\n",
       "    </tr>\n",
       "    <tr>\n",
       "      <th>year</th>\n",
       "      <td>2995</td>\n",
       "      <td>1</td>\n",
       "      <td>0.03</td>\n",
       "    </tr>\n",
       "    <tr>\n",
       "      <th>friends</th>\n",
       "      <td>416</td>\n",
       "      <td>2580</td>\n",
       "      <td>86.11</td>\n",
       "    </tr>\n",
       "    <tr>\n",
       "      <th>influenced_by</th>\n",
       "      <td>484</td>\n",
       "      <td>2512</td>\n",
       "      <td>83.85</td>\n",
       "    </tr>\n",
       "    <tr>\n",
       "      <th>influenced_on</th>\n",
       "      <td>359</td>\n",
       "      <td>2637</td>\n",
       "      <td>88.02</td>\n",
       "    </tr>\n",
       "    <tr>\n",
       "      <th>institution</th>\n",
       "      <td>634</td>\n",
       "      <td>2362</td>\n",
       "      <td>78.84</td>\n",
       "    </tr>\n",
       "    <tr>\n",
       "      <th>movements</th>\n",
       "      <td>2956</td>\n",
       "      <td>40</td>\n",
       "      <td>1.34</td>\n",
       "    </tr>\n",
       "    <tr>\n",
       "      <th>school</th>\n",
       "      <td>1030</td>\n",
       "      <td>1966</td>\n",
       "      <td>65.62</td>\n",
       "    </tr>\n",
       "    <tr>\n",
       "      <th>type</th>\n",
       "      <td>2995</td>\n",
       "      <td>1</td>\n",
       "      <td>0.03</td>\n",
       "    </tr>\n",
       "  </tbody>\n",
       "</table>\n",
       "</div>"
      ],
      "text/plain": [
       "                 Non-missing Values  Missing Values      %\n",
       "artistUrl                      2996               0   0.00\n",
       "id                             2996               0   0.00\n",
       "image                          2996               0   0.00\n",
       "nation                         2964              32   1.07\n",
       "title                          2996               0   0.00\n",
       "totalWorksTitle                2996               0   0.00\n",
       "year                           2995               1   0.03\n",
       "friends                         416            2580  86.11\n",
       "influenced_by                   484            2512  83.85\n",
       "influenced_on                   359            2637  88.02\n",
       "institution                     634            2362  78.84\n",
       "movements                      2956              40   1.34\n",
       "school                         1030            1966  65.62\n",
       "type                           2995               1   0.03"
      ]
     },
     "execution_count": 12,
     "metadata": {},
     "output_type": "execute_result"
    }
   ],
   "source": [
    "verify_missing_df(df)"
   ]
  },
  {
   "cell_type": "code",
   "execution_count": 13,
   "metadata": {},
   "outputs": [
    {
     "data": {
      "text/html": [
       "<div>\n",
       "<style scoped>\n",
       "    .dataframe tbody tr th:only-of-type {\n",
       "        vertical-align: middle;\n",
       "    }\n",
       "\n",
       "    .dataframe tbody tr th {\n",
       "        vertical-align: top;\n",
       "    }\n",
       "\n",
       "    .dataframe thead th {\n",
       "        text-align: right;\n",
       "    }\n",
       "</style>\n",
       "<table border=\"1\" class=\"dataframe\">\n",
       "  <thead>\n",
       "    <tr style=\"text-align: right;\">\n",
       "      <th></th>\n",
       "      <th>Non-missing Values</th>\n",
       "      <th>Missing Values</th>\n",
       "      <th>%</th>\n",
       "    </tr>\n",
       "  </thead>\n",
       "  <tbody>\n",
       "    <tr>\n",
       "      <th>city</th>\n",
       "      <td>71</td>\n",
       "      <td>2</td>\n",
       "      <td>2.74</td>\n",
       "    </tr>\n",
       "    <tr>\n",
       "      <th>country</th>\n",
       "      <td>71</td>\n",
       "      <td>2</td>\n",
       "      <td>2.74</td>\n",
       "    </tr>\n",
       "    <tr>\n",
       "      <th>title</th>\n",
       "      <td>73</td>\n",
       "      <td>0</td>\n",
       "      <td>0.00</td>\n",
       "    </tr>\n",
       "    <tr>\n",
       "      <th>url</th>\n",
       "      <td>73</td>\n",
       "      <td>0</td>\n",
       "      <td>0.00</td>\n",
       "    </tr>\n",
       "  </tbody>\n",
       "</table>\n",
       "</div>"
      ],
      "text/plain": [
       "         Non-missing Values  Missing Values     %\n",
       "city                     71               2  2.74\n",
       "country                  71               2  2.74\n",
       "title                    73               0  0.00\n",
       "url                      73               0  0.00"
      ]
     },
     "execution_count": 13,
     "metadata": {},
     "output_type": "execute_result"
    }
   ],
   "source": [
    "verify_missing_df(df_institutions)"
   ]
  },
  {
   "cell_type": "code",
   "execution_count": 14,
   "metadata": {},
   "outputs": [
    {
     "data": {
      "text/html": [
       "<div>\n",
       "<style scoped>\n",
       "    .dataframe tbody tr th:only-of-type {\n",
       "        vertical-align: middle;\n",
       "    }\n",
       "\n",
       "    .dataframe tbody tr th {\n",
       "        vertical-align: top;\n",
       "    }\n",
       "\n",
       "    .dataframe thead th {\n",
       "        text-align: right;\n",
       "    }\n",
       "</style>\n",
       "<table border=\"1\" class=\"dataframe\">\n",
       "  <thead>\n",
       "    <tr style=\"text-align: right;\">\n",
       "      <th></th>\n",
       "      <th>Non-missing Values</th>\n",
       "      <th>Missing Values</th>\n",
       "      <th>%</th>\n",
       "    </tr>\n",
       "  </thead>\n",
       "  <tbody>\n",
       "    <tr>\n",
       "      <th>title</th>\n",
       "      <td>220</td>\n",
       "      <td>0</td>\n",
       "      <td>0.0</td>\n",
       "    </tr>\n",
       "    <tr>\n",
       "      <th>url</th>\n",
       "      <td>220</td>\n",
       "      <td>0</td>\n",
       "      <td>0.0</td>\n",
       "    </tr>\n",
       "  </tbody>\n",
       "</table>\n",
       "</div>"
      ],
      "text/plain": [
       "       Non-missing Values  Missing Values    %\n",
       "title                 220               0  0.0\n",
       "url                   220               0  0.0"
      ]
     },
     "execution_count": 14,
     "metadata": {},
     "output_type": "execute_result"
    }
   ],
   "source": [
    "verify_missing_df(df_schools)"
   ]
  },
  {
   "cell_type": "markdown",
   "metadata": {},
   "source": [
    "Observations:\n",
    "- We can verify that some values such as name, image, nation, year, and movent are almost complete.\n",
    "\n",
    "- Values as influences, friends, and institutions have several missing values; this means that not all artists have documented connections on the WikiArt page.\n",
    "\n",
    "- Schools and Institutions are almost complete"
   ]
  },
  {
   "cell_type": "markdown",
   "metadata": {},
   "source": [
    "### Analysing artists general attributes"
   ]
  },
  {
   "cell_type": "markdown",
   "metadata": {},
   "source": [
    "Distributions by Movement"
   ]
  },
  {
   "cell_type": "code",
   "execution_count": 15,
   "metadata": {},
   "outputs": [
    {
     "name": "stdout",
     "output_type": "stream",
     "text": [
      "There are artists of 178 different movements\n"
     ]
    }
   ],
   "source": [
    "df_movements = pd.DataFrame(df.movements.explode())\n",
    "print(f\"There are artists of {df_movements.movements.unique().shape[0]} different movements\")"
   ]
  },
  {
   "cell_type": "markdown",
   "metadata": {},
   "source": [
    "Plotting top 20 movements"
   ]
  },
  {
   "cell_type": "code",
   "execution_count": 16,
   "metadata": {},
   "outputs": [
    {
     "data": {
      "text/plain": [
       "[Text(0.5, 1.0, 'Number Artist by Movements')]"
      ]
     },
     "execution_count": 16,
     "metadata": {},
     "output_type": "execute_result"
    },
    {
     "data": {
      "image/png": "[encoded data removed]",
      "text/plain": [
       "<Figure size 640x480 with 1 Axes>"
      ]
     },
     "metadata": {},
     "output_type": "display_data"
    }
   ],
   "source": [
    "order = pd.value_counts(df_movements[\"movements\"]).iloc[:20].index\n",
    "sns.countplot(df_movements, y=\"movements\", order = order).set(title='Number Artist by Movements')"
   ]
  },
  {
   "cell_type": "markdown",
   "metadata": {},
   "source": [
    "Romanticism is the artistic movement with more artists registered on the WikiArt platform, followed by Impressionism and Expressionism."
   ]
  },
  {
   "cell_type": "markdown",
   "metadata": {},
   "source": [
    "Distribution by Nationality"
   ]
  },
  {
   "cell_type": "code",
   "execution_count": 17,
   "metadata": {},
   "outputs": [
    {
     "name": "stdout",
     "output_type": "stream",
     "text": [
      "There artists of 107 different nationalities\n"
     ]
    }
   ],
   "source": [
    "print(f\"There artists of {df.nation.unique().shape[0]} different nationalities\")"
   ]
  },
  {
   "cell_type": "code",
   "execution_count": 18,
   "metadata": {},
   "outputs": [
    {
     "data": {
      "text/plain": [
       "nation\n",
       "American        520\n",
       "French          402\n",
       "Italian         269\n",
       "British         249\n",
       "German          160\n",
       "               ... \n",
       "Italians          1\n",
       "Bangladeshis      1\n",
       "Romanians         1\n",
       "Bosnian           1\n",
       "Cameroonian       1\n",
       "Name: count, Length: 106, dtype: int64"
      ]
     },
     "execution_count": 18,
     "metadata": {},
     "output_type": "execute_result"
    }
   ],
   "source": [
    "df[\"nation\"].value_counts()"
   ]
  },
  {
   "cell_type": "markdown",
   "metadata": {},
   "source": [
    "Plotting top 20 nations of artists"
   ]
  },
  {
   "cell_type": "code",
   "execution_count": 19,
   "metadata": {},
   "outputs": [
    {
     "data": {
      "text/plain": [
       "[Text(0.5, 1.0, 'Number artist by nationality')]"
      ]
     },
     "execution_count": 19,
     "metadata": {},
     "output_type": "execute_result"
    },
    {
     "data": {
      "image/png": "[encoded data removed]",
      "text/plain": [
       "<Figure size 640x480 with 1 Axes>"
      ]
     },
     "metadata": {},
     "output_type": "display_data"
    }
   ],
   "source": [
    "order = pd.value_counts(df[\"nation\"]).iloc[:20].index\n",
    "sns.countplot(df, y=\"nation\", order = order).set(title='Number artist by nationality')"
   ]
  },
  {
   "cell_type": "markdown",
   "metadata": {},
   "source": [
    "The majority of artists registered on the platform are Americans (520), followed by French (402) and Italians (269)."
   ]
  },
  {
   "cell_type": "markdown",
   "metadata": {},
   "source": [
    "Distribution by Number of artworks"
   ]
  },
  {
   "cell_type": "code",
   "execution_count": 20,
   "metadata": {},
   "outputs": [
    {
     "data": {
      "text/plain": [
       "count    2996.000000\n",
       "mean       57.140521\n",
       "std       109.972460\n",
       "min         0.000000\n",
       "25%        16.000000\n",
       "50%        27.000000\n",
       "75%        55.000000\n",
       "max      1931.000000\n",
       "Name: totalWorksTitle, dtype: float64"
      ]
     },
     "execution_count": 20,
     "metadata": {},
     "output_type": "execute_result"
    }
   ],
   "source": [
    "df[\"totalWorksTitle\"].describe()"
   ]
  },
  {
   "cell_type": "code",
   "execution_count": 21,
   "metadata": {},
   "outputs": [
    {
     "data": {
      "text/plain": [
       "[Text(0.5, 1.0, 'Distribution of number of artworks')]"
      ]
     },
     "execution_count": 21,
     "metadata": {},
     "output_type": "execute_result"
    },
    {
     "data": {
      "image/png": "[encoded data removed]",
      "text/plain": [
       "<Figure size 640x480 with 1 Axes>"
      ]
     },
     "metadata": {},
     "output_type": "display_data"
    }
   ],
   "source": [
    "sns.histplot(df, x=\"totalWorksTitle\").set(title='Distribution of number of artworks')"
   ]
  },
  {
   "cell_type": "markdown",
   "metadata": {},
   "source": [
    "Based on the plot, it can be concluded that most artists have fewer than 100 works on the platform, with an average of 57.14 artworks."
   ]
  },
  {
   "cell_type": "markdown",
   "metadata": {},
   "source": [
    "### Verify the distribution number of connections\n",
    "\n",
    "Here we are going to verify the average number of connections of the attributes that represent relatioships with other entity."
   ]
  },
  {
   "cell_type": "code",
   "execution_count": 22,
   "metadata": {},
   "outputs": [],
   "source": [
    "def avg_connections_list(colunm_names):\n",
    "    for column in colunm_names:\n",
    "        df['length_'+column] = df[column].str.len()\n",
    "        df['length_'+column] = df['length_'+column].fillna(0)\n",
    "\n",
    "columns_relationships = [\"friends\", \"influenced_by\", \"influenced_on\", \"institution\", \"movements\", \"school\"]\n",
    "avg_connections_list(columns_relationships)"
   ]
  },
  {
   "cell_type": "markdown",
   "metadata": {},
   "source": [
    "### Artists with no connection"
   ]
  },
  {
   "cell_type": "code",
   "execution_count": 23,
   "metadata": {},
   "outputs": [
    {
     "name": "stdout",
     "output_type": "stream",
     "text": [
      "In total 23 observations don't have any type of relationship\n"
     ]
    }
   ],
   "source": [
    "cl_relationships_length = [\"length_friends\", \"length_influenced_by\", \"length_influenced_on\", \"length_institution\", \"length_movements\", \"length_school\"]\n",
    "df_length_rel = df[cl_relationships_length]\n",
    "shape_no_rel = df_length_rel.loc[(df_length_rel==0).all(axis=1)].shape\n",
    "print(f\"In total {shape_no_rel[0]} observations don't have any type of relationship\")"
   ]
  },
  {
   "cell_type": "code",
   "execution_count": 24,
   "metadata": {},
   "outputs": [
    {
     "data": {
      "image/png": "[encoded data removed]",
      "text/plain": [
       "<Figure size 1500x800 with 6 Axes>"
      ]
     },
     "metadata": {},
     "output_type": "display_data"
    }
   ],
   "source": [
    "column_names = df_length_rel.columns\n",
    "fig, axes = plt.subplots(ncols=3, nrows=2, figsize=(15, 8))\n",
    "index = 0\n",
    "axes = axes.flatten()\n",
    "for column in column_names:\n",
    "  ax = axes[index]\n",
    "  sns.histplot(df_length_rel, x=column,ax=ax)\n",
    "  attr_name = column[7:]\n",
    "  ax.set_xlabel(f\"Number of {attr_name}\")\n",
    "  ax.set_title(f\"Histogram of {attr_name}\")\n",
    "  index += 1\n",
    "plt.tight_layout(pad=0.4, w_pad=0.5, h_pad=1.5)\n",
    "        "
   ]
  },
  {
   "cell_type": "markdown",
   "metadata": {},
   "source": [
    "### Excluding artists with zero relationship in certain column"
   ]
  },
  {
   "cell_type": "code",
   "execution_count": 25,
   "metadata": {},
   "outputs": [
    {
     "data": {
      "image/png": "[encoded data removed]",
      "text/plain": [
       "<Figure size 1500x1500 with 6 Axes>"
      ]
     },
     "metadata": {},
     "output_type": "display_data"
    }
   ],
   "source": [
    "fig, axes = plt.subplots(ncols=2, nrows=3, figsize=(15, 15))\n",
    "index = 0\n",
    "axes = axes.flatten()\n",
    "for column in column_names:\n",
    "  ax = axes[index]\n",
    "  df_filtered = df_length_rel[df_length_rel[column]!=0]\n",
    "  sns.countplot(df_filtered, x=column,ax=ax)\n",
    "  attr_name = column[7:]\n",
    "  ax.set_xlabel(f\"Number of {attr_name}\")\n",
    "  ax.set_title(f\"Histogram of {attr_name}\")\n",
    "  index += 1\n",
    "plt.tight_layout(pad=0.4, w_pad=0.5, h_pad=1.5)"
   ]
  },
  {
   "cell_type": "markdown",
   "metadata": {},
   "source": [
    "Observations:\n",
    "- Almost all artists have at least one type of relationship, mostly because almost every painter is connected to a movement.\n",
    "\n",
    "- Excluding the artists that have no relationship, most of the artists have one relationship.\n",
    "\n",
    "- Around 800 artists are connected to a painting school (group of artists).\n",
    "\n",
    "- Around 500 artists frequented an art institution."
   ]
  },
  {
   "cell_type": "markdown",
   "metadata": {},
   "source": [
    "## Network analysis"
   ]
  },
  {
   "cell_type": "markdown",
   "metadata": {},
   "source": [
    "Loading information into a network"
   ]
  },
  {
   "cell_type": "code",
   "execution_count": 26,
   "metadata": {},
   "outputs": [],
   "source": [
    "## Creating gragh\n",
    "G = nx.Graph()"
   ]
  },
  {
   "cell_type": "code",
   "execution_count": 27,
   "metadata": {},
   "outputs": [],
   "source": [
    "# Create the correct format to load a node\n",
    "def create_nodes_dic(df, key, list_attr, type, color):\n",
    "    df_filtered = df[list_attr]\n",
    "    list_node_attr = df_filtered.to_dict('records')\n",
    "\n",
    "    list_keys = df[key].values.tolist()\n",
    "    list_nodes = []\n",
    "    for key, dic_attr in zip(list_keys, list_node_attr):\n",
    "        dic_attr[\"type\"] = type\n",
    "        dic_attr[\"color\"] = color\n",
    "        list_nodes.append((key, dic_attr))\n",
    "\n",
    "    return list_nodes\n",
    "\n",
    "# Load several nodes from the same type into a graph\n",
    "def load_nodes(graph, list_nodes):\n",
    "    graph.add_nodes_from(list_nodes)\n",
    "\n",
    "\n",
    "## Load edges on the graph\n",
    "def load_edges(graph, list_edges):\n",
    "    for edge in list_edges:\n",
    "        node1 = edge[0]\n",
    "        node2 = edge[1]\n",
    "        att =  edge[2]\n",
    "        if graph.has_node(node1) and graph.has_node(node2):\n",
    "            graph.add_edge(node1, node2,**att)\n",
    "\n",
    "\n",
    "def isNaN(value):\n",
    "    return value != value"
   ]
  },
  {
   "cell_type": "code",
   "execution_count": 28,
   "metadata": {},
   "outputs": [],
   "source": [
    "## Create list of edges\n",
    "influences_edges = []\n",
    "schools_edges = []\n",
    "movement_edges = []\n",
    "intitution_edges = []\n",
    "\n",
    "for index, row in df.iterrows():\n",
    "    list_influenced_by = row[\"influenced_by\"] if not isNaN(row[\"influenced_by\"]) else []\n",
    "    list_influenced_on = row[\"influenced_on\"] if not isNaN(row[\"influenced_on\"]) else [] \n",
    "    list_schools = row[\"school\"] if not isNaN(row[\"school\"]) else []\n",
    "    list_movements = row[\"movements\"] if not isNaN(row[\"movements\"]) else []\n",
    "    list_institutions = row[\"institution\"] if not isNaN(row[\"institution\"]) else []\n",
    "\n",
    "    # Influenced by\n",
    "    for influence in list_influenced_by:\n",
    "        edge = (row[\"artistUrl\"], influence, {'type': \"influeced_by\"})\n",
    "        influences_edges.append(edge)\n",
    "    \n",
    "    # Influenced on\n",
    "    for influced_on in list_influenced_on:\n",
    "        edge = (influced_on, row[\"artistUrl\"] , {'type': \"influeced_by\"})\n",
    "        influences_edges.append(edge)\n",
    "\n",
    "    # Schools\n",
    "    for school in list_schools:\n",
    "        edge = (row[\"artistUrl\"], school, {'type': \"part_of_school\"})\n",
    "        schools_edges.append(edge)\n",
    "\n",
    "    # Movements\n",
    "    for movement in list_movements:\n",
    "        edge = (row[\"artistUrl\"], movement, {'type': \"part_of_mov\"})\n",
    "        movement_edges.append(edge)\n",
    "\n",
    "    # Institutions\n",
    "    for institution in list_institutions:\n",
    "        edge = (row[\"artistUrl\"], institution, {'type': \"studied_at\"})\n",
    "        intitution_edges.append(edge)"
   ]
  },
  {
   "cell_type": "code",
   "execution_count": 29,
   "metadata": {},
   "outputs": [],
   "source": [
    "## Get nodes attributes to load on the graph\n",
    "\n",
    "# Artists\n",
    "list_attr = [\"id\",\"image\",\"nation\",\"title\",\"totalWorksTitle\",\"year\"]\n",
    "nodes_artists = create_nodes_dic(df, \"artistUrl\", list_attr, \"artist\", \"blue\")\n",
    "\n",
    "# Movements\n",
    "list_movements = df[\"movements\"].explode().unique().tolist()\n",
    "nodes_movements = [(x,{\"type\":\"movement\", \"color\": \"green\", \"title\": x}) for x in list_movements if x == x]\n",
    "\n",
    "# Institution\n",
    "list_attr = [\"city\",\"country\", \"title\"]\n",
    "nodes_institutions = create_nodes_dic(df_institutions, \"url\", list_attr, \"institution\", \"gray\")\n",
    "\n",
    "# School\n",
    "list_attr = [\"title\"]\n",
    "nodes_schools = create_nodes_dic(df_schools, \"url\", list_attr, \"school\", \"red\")"
   ]
  },
  {
   "cell_type": "code",
   "execution_count": 30,
   "metadata": {},
   "outputs": [],
   "source": [
    "## Load artists nodes on the graph\n",
    "G = nx.DiGraph()\n",
    "color_map = []\n",
    "\n",
    "## Nodes\n",
    "# Load artist nodes into the graph\n",
    "load_nodes(G,nodes_artists)\n",
    "\n",
    "# Load movement nodes into the graph\n",
    "load_nodes(G,nodes_movements)\n",
    "\n",
    "# Load instution nodes into the graph\n",
    "load_nodes(G,nodes_institutions)\n",
    "\n",
    "# Load school nodes into the graph\n",
    "load_nodes(G,nodes_schools)\n",
    "\n",
    "## Edges\n",
    "# Load relationship artist->arstist into the graph\n",
    "load_edges(G,influences_edges)\n",
    "\n",
    "# Load relationship artist -> movement into the graph\n",
    "load_edges(G,movement_edges)\n",
    "\n",
    "# Load relationship artist -> school into the graph\n",
    "load_edges(G,schools_edges)\n",
    "\n",
    "# Load relationship artist -> institution into the graph\n",
    "load_edges(G,intitution_edges)"
   ]
  },
  {
   "cell_type": "markdown",
   "metadata": {},
   "source": [
    "### Data Analysis in the Graph"
   ]
  },
  {
   "cell_type": "markdown",
   "metadata": {},
   "source": [
    "Counting number of nodes and edges"
   ]
  },
  {
   "cell_type": "code",
   "execution_count": 31,
   "metadata": {},
   "outputs": [],
   "source": [
    "# Counts the number of nodes given a type\n",
    "def count_node_type(type):\n",
    "    # Count nodes \n",
    "    filtered_nodes = [node for node, data in G.nodes(data=True) if data.get(\"type\") == type]\n",
    "    return len(filtered_nodes)\n",
    "\n",
    "# Counts the number of edges given a type of relationship\n",
    "def count_edge_type(type):\n",
    "    # Count edges that have the specified attribute value\n",
    "    filtered_edges = [edge for edge in G.edges(data=True) if edge[2].get(\"type\") == type]\n",
    "    return len(filtered_edges)\n"
   ]
  },
  {
   "cell_type": "code",
   "execution_count": 32,
   "metadata": {},
   "outputs": [
    {
     "name": "stdout",
     "output_type": "stream",
     "text": [
      "Total number of nodes: 3466\n",
      "- Painters: 2996\n",
      "- Movements: 177\n",
      "- Schools: 220\n",
      "- Institutions: 73\n",
      "\n",
      "Total number of edges: 7337\n",
      "- Painters -> Painters: 1104\n",
      "- Painters -> School: 1164\n",
      "- Painters -> Institution: 4263\n",
      "- Painters -> Movement: 806\n"
     ]
    }
   ],
   "source": [
    "# Total number of nodes\n",
    "print(f\"Total number of nodes: {G.number_of_nodes()}\")\n",
    "print(f\"- Painters: {count_node_type('artist')}\")\n",
    "print(f\"- Movements: {count_node_type('movement')}\")\n",
    "print(f\"- Schools: {count_node_type('school')}\")\n",
    "print(f\"- Institutions: {count_node_type('institution')}\")\n",
    "\n",
    "# Total number of edges\n",
    "print()\n",
    "print(f\"Total number of edges: {G.number_of_edges()}\")\n",
    "print(f\"- Painters -> Painters: {count_edge_type('influeced_by')}\")\n",
    "print(f\"- Painters -> School: {count_edge_type('part_of_school')}\")\n",
    "print(f\"- Painters -> Institution: {count_edge_type('part_of_mov')}\")\n",
    "print(f\"- Painters -> Movement: {count_edge_type('studied_at')}\")"
   ]
  },
  {
   "cell_type": "markdown",
   "metadata": {},
   "source": [
    "Creating subgraph of artists"
   ]
  },
  {
   "cell_type": "code",
   "execution_count": 33,
   "metadata": {},
   "outputs": [],
   "source": [
    "# Filter nodes\n",
    "filtered_nodes = [node for node, data in G.nodes(data=True) if 'type' in data and data['type'] == \"artist\"]\n",
    "# Create a subgraph with the filtered nodes and associated edges\n",
    "subgraph_artists = G.subgraph(filtered_nodes)"
   ]
  },
  {
   "cell_type": "markdown",
   "metadata": {},
   "source": [
    "### Measuaring Influence"
   ]
  },
  {
   "cell_type": "markdown",
   "metadata": {},
   "source": [
    "#### Finding most influencial artists of all time"
   ]
  },
  {
   "cell_type": "code",
   "execution_count": 34,
   "metadata": {},
   "outputs": [],
   "source": [
    "# Get movements of a node artist\n",
    "def get_movements(node_painter):\n",
    "    node = node_painter\n",
    "    mov_nodes = [u for v, u, attrs in G.edges(data=True)\n",
    "                if (v == node and 'type' in attrs and attrs['type'] == \"part_of_mov\")]\n",
    "    return mov_nodes\n",
    "\n",
    "def print_top_nodes(nodes_centrality, number_top):\n",
    "    top_10_degree = sorted(nodes_centrality.items(), key=lambda x: x[1], reverse=True)[:number_top]\n",
    "    for node, centrality in top_10_degree:\n",
    "        attr = G.nodes[node] \n",
    "        list_mov = get_movements(node)\n",
    "        print(attr[\"title\"]+\" - \"+ str(centrality)+\";\")\n",
    "        if(len(list_mov)>0):\n",
    "            print(list_mov)"
   ]
  },
  {
   "cell_type": "code",
   "execution_count": 35,
   "metadata": {},
   "outputs": [
    {
     "name": "stdout",
     "output_type": "stream",
     "text": [
      "Paul Cezanne - 0.007679465776293823;\n",
      "['Post-Impressionism']\n",
      "Pablo Picasso - 0.007011686143572621;\n",
      "['Cubism', 'Post-Impressionism', 'Surrealism']\n",
      "Caravaggio - 0.00667779632721202;\n",
      "['Baroque']\n",
      "Rembrandt - 0.006343906510851419;\n",
      "['Baroque', 'Dutch Golden Age']\n",
      "Titian - 0.005342237061769616;\n",
      "['High Renaissance', 'Mannerism (Late Renaissance)']\n",
      "Diego Velazquez - 0.005342237061769616;\n",
      "['Baroque']\n",
      "Henri Matisse - 0.005008347245409015;\n",
      "['Impressionism', 'Post-Impressionism']\n",
      "Nicolas Poussin - 0.005008347245409015;\n",
      "['Baroque']\n",
      "Gustave Courbet - 0.004674457429048414;\n",
      "['Realism']\n",
      "Raphael - 0.004340567612687813;\n",
      "['High Renaissance']\n"
     ]
    }
   ],
   "source": [
    "# By Degree centrality\n",
    "degree = nx.in_degree_centrality(subgraph_artists)\n",
    "nx.set_node_attributes(subgraph_artists, degree, 'degree')\n",
    "print_top_nodes(degree,10)"
   ]
  },
  {
   "cell_type": "code",
   "execution_count": 36,
   "metadata": {},
   "outputs": [
    {
     "name": "stdout",
     "output_type": "stream",
     "text": [
      "Michelangelo - 0.31255102665599643;\n",
      "['High Renaissance']\n",
      "Albrecht Durer - 0.31237754549426694;\n",
      "['Northern Renaissance']\n",
      "Giorgione - 0.3034569107740433;\n",
      "['High Renaissance']\n",
      "Titian - 0.2903799349850588;\n",
      "['High Renaissance', 'Mannerism (Late Renaissance)']\n",
      "Rogier van der Weyden - 0.2834256062421054;\n",
      "['Northern Renaissance']\n",
      "Jan van Eyck - 0.2645034349045184;\n",
      "['Northern Renaissance']\n",
      "Stefan Lochner - 0.2645007053077634;\n",
      "['Gothic Art', 'Northern Renaissance']\n",
      "Andrea Mantegna - 0.2485404068818404;\n",
      "['Early Renaissance', 'High Renaissance']\n",
      "Giotto - 0.2032901365550775;\n",
      "['Proto Renaissance']\n",
      "Masaccio - 0.20327332067003082;\n",
      "['Early Renaissance']\n"
     ]
    }
   ],
   "source": [
    "# By Eigenvector Centrality\n",
    "eigenvector = nx.eigenvector_centrality(subgraph_artists, max_iter=600)\n",
    "nx.set_node_attributes(subgraph_artists, eigenvector, 'eigenvector')\n",
    "print_top_nodes(eigenvector,10)"
   ]
  },
  {
   "cell_type": "code",
   "execution_count": 37,
   "metadata": {},
   "outputs": [
    {
     "name": "stdout",
     "output_type": "stream",
     "text": [
      "Titian - 0.010472079187792279;\n",
      "['High Renaissance', 'Mannerism (Late Renaissance)']\n",
      "Caravaggio - 0.007611459708885872;\n",
      "['Baroque']\n",
      "Rembrandt - 0.0068373390151381915;\n",
      "['Baroque', 'Dutch Golden Age']\n",
      "Giorgione - 0.005917743520619231;\n",
      "['High Renaissance']\n",
      "Raphael - 0.005917176299416929;\n",
      "['High Renaissance']\n",
      "Nicolas Poussin - 0.00561596178305417;\n",
      "['Baroque']\n",
      "Michelangelo - 0.005348304846808227;\n",
      "['High Renaissance']\n",
      "Albrecht Durer - 0.004991558880940052;\n",
      "['Northern Renaissance']\n",
      "Peter Paul Rubens - 0.004154150228176153;\n",
      "['Baroque']\n",
      "Giotto - 0.0038845477531098582;\n",
      "['Proto Renaissance']\n"
     ]
    }
   ],
   "source": [
    "#By PageRank\n",
    "pagerank = nx.pagerank(subgraph_artists, alpha=0.85) \n",
    "nx.set_node_attributes(subgraph_artists, pagerank, 'pagerank')\n",
    "print_top_nodes(pagerank,10)"
   ]
  },
  {
   "cell_type": "code",
   "execution_count": 38,
   "metadata": {},
   "outputs": [],
   "source": [
    "# Save subgraph of painters to plot it\n",
    "nx.write_graphml(subgraph_artists, \"subgraph_painter_influence.graphml\")"
   ]
  },
  {
   "cell_type": "markdown",
   "metadata": {},
   "source": [
    "Evaluating the correlation between the genearated lists"
   ]
  },
  {
   "cell_type": "code",
   "execution_count": 39,
   "metadata": {},
   "outputs": [],
   "source": [
    "pagerank_values = [pagerank[node] for node in sorted(subgraph_artists.nodes())]\n",
    "eigenvector_values = [eigenvector[node] for node in sorted(subgraph_artists.nodes())]\n",
    "degree_values = [degree[node] for node in sorted(subgraph_artists.nodes())]"
   ]
  },
  {
   "cell_type": "code",
   "execution_count": 40,
   "metadata": {},
   "outputs": [
    {
     "name": "stdout",
     "output_type": "stream",
     "text": [
      "Degree and Eigenvector: tau = 0.9769064325520451, p = 0.0\n",
      "Degree and PageRank: tau = 0.9832126160887105, p = 0.0\n",
      "PageRank and Eigenvector: tau = 0.979836676662274, p = 0.0\n"
     ]
    }
   ],
   "source": [
    "tau, p_value = stats.kendalltau(degree_values, eigenvector_values)\n",
    "print(f\"Degree and Eigenvector: tau = {tau}, p = {p_value}\")\n",
    "tau, p_value = stats.kendalltau(degree_values, pagerank_values)\n",
    "print(f\"Degree and PageRank: tau = {tau}, p = {p_value}\")\n",
    "tau, p_value = stats.kendalltau(pagerank_values, eigenvector_values)\n",
    "print(f\"PageRank and Eigenvector: tau = {tau}, p = {p_value}\")"
   ]
  },
  {
   "cell_type": "markdown",
   "metadata": {},
   "source": [
    "This result shows that the ranks present are highly correlated."
   ]
  },
  {
   "cell_type": "markdown",
   "metadata": {},
   "source": [
    "#### Finding most influencial artists by movement using PageRank"
   ]
  },
  {
   "cell_type": "code",
   "execution_count": 41,
   "metadata": {},
   "outputs": [
    {
     "name": "stdout",
     "output_type": "stream",
     "text": [
      "Top 10 Arstist by Movement based on pagerank:\n",
      "\n",
      "Mannerism (Late Renaissance) - Titian - 0.010472079187792279;\n",
      "High Renaissance - Titian - 0.010472079187792279;\n",
      "Baroque - Caravaggio - 0.007611459708885872;\n",
      "Dutch Golden Age - Rembrandt - 0.0068373390151381915;\n",
      "Northern Renaissance - Albrecht Durer - 0.004991558880940052;\n",
      "Proto Renaissance - Giotto - 0.0038845477531098582;\n",
      "Post-Impressionism - Paul Cezanne - 0.0038305289722474108;\n",
      "Coptic art - Orthodox Icons - 0.0037335577207887726;\n",
      "Byzantine Art - Orthodox Icons - 0.0037335577207887726;\n",
      "Realism - Gustave Courbet - 0.003541859530480298;\n"
     ]
    }
   ],
   "source": [
    "ftr_nodes_mov = [node for node, data in G.nodes(data=True) if 'type' in data and data['type'] == \"movement\"]\n",
    "list_mov_art = []\n",
    "\n",
    "for movement in ftr_nodes_mov:\n",
    "     connected_nodes = list(G.predecessors(movement))\n",
    "     artists_mov_pagerank = {artist: pagerank[artist] for artist in connected_nodes}\n",
    "     max_pagerank_url = max(artists_mov_pagerank, key=artists_mov_pagerank.get)\n",
    "     list_mov_art.append({\"movement\": movement, \"artist\": max_pagerank_url, \"pagerank\": artists_mov_pagerank[max_pagerank_url]})\n",
    "\n",
    "# Sort the list based on 'pagerank'\n",
    "sorted_data = sorted(list_mov_art, key=lambda x: x['pagerank'], reverse=True)\n",
    "# Get top 10 elements\n",
    "top_10 = sorted_data[:10]\n",
    "\n",
    "print(\"Top 10 Arstist by Movement based on pagerank:\")\n",
    "print()\n",
    "for item in top_10:\n",
    "    movement_value = item[\"movement\"]\n",
    "    artist_value = G.nodes[item[\"artist\"]][\"title\"]\n",
    "    pagerank_value = item[\"pagerank\"]\n",
    "    print(f\"{movement_value} - {artist_value} - {pagerank_value};\")\n"
   ]
  },
  {
   "cell_type": "markdown",
   "metadata": {},
   "source": [
    "#### Finding the most influential movement"
   ]
  },
  {
   "cell_type": "code",
   "execution_count": 42,
   "metadata": {},
   "outputs": [],
   "source": [
    "def get_influence(type):\n",
    "    # Select nodes that are movements and artists\n",
    "    ftr_nodes = [node for node, data in G.nodes(data=True) if 'type' in data and data['type'] == type or data['type'] == \"artist\"]\n",
    "    subgraph = G.subgraph(ftr_nodes)\n",
    "\n",
    "    # Run Page Rank \n",
    "    pagerank = nx.pagerank(subgraph, alpha=0.85)\n",
    "    return pagerank, subgraph\n",
    "    "
   ]
  },
  {
   "cell_type": "code",
   "execution_count": 43,
   "metadata": {},
   "outputs": [
    {
     "data": {
      "text/plain": [
       "[('Romanticism', 0.029687472980360854),\n",
       " ('Impressionism', 0.020944860177108213),\n",
       " ('Realism', 0.020165224989211555),\n",
       " ('Expressionism', 0.019507113952302767),\n",
       " ('Baroque', 0.016952445938058853),\n",
       " ('Surrealism', 0.015727746612503788),\n",
       " ('Post-Impressionism', 0.01327657787736346),\n",
       " ('Abstract Expressionism', 0.012763446480603343),\n",
       " ('Contemporary', 0.010775003277040703),\n",
       " ('Abstract Art', 0.010317773184545303)]"
      ]
     },
     "execution_count": 43,
     "metadata": {},
     "output_type": "execute_result"
    }
   ],
   "source": [
    "# Select nodes that are movements and artists\n",
    "pagerank_mov, subgraph_movement = get_influence(\"movement\")\n",
    "ftr_nodes_type = [node for node, data in G.nodes(data=True) if data.get(\"type\") == \"movement\"]\n",
    "ftr_nodes = {key: value for key, value in pagerank_mov.items() if key in list_movements}\n",
    "top_10= sorted(ftr_nodes.items(), key=lambda x: x[1], reverse=True)[:10]\n",
    "top_10"
   ]
  },
  {
   "cell_type": "code",
   "execution_count": 44,
   "metadata": {},
   "outputs": [],
   "source": [
    "# Save subgraph of movements to plot it\n",
    "nx.set_node_attributes(subgraph_artists, pagerank, 'pagerank')\n",
    "nx.write_graphml(subgraph_movement, \"subgraph_movement_influence.graphml\")"
   ]
  },
  {
   "cell_type": "markdown",
   "metadata": {},
   "source": [
    "We can see that Romanticism, Impressionism and Realis had the highest PageRank value."
   ]
  },
  {
   "cell_type": "markdown",
   "metadata": {},
   "source": [
    "#### Finding the most influential schools"
   ]
  },
  {
   "cell_type": "code",
   "execution_count": 45,
   "metadata": {},
   "outputs": [
    {
     "name": "stdout",
     "output_type": "stream",
     "text": [
      "École de Paris - 0.011033579634100198;\n",
      "Florentine School - 0.00882894480943382;\n",
      "New York School - 0.0069879098727557805;\n",
      "Dutch School - 0.006052119254749107;\n",
      "Flemish School - 0.004844463390872454;\n",
      "Fluxus - 0.004643291538982979;\n",
      "Peredvizhniki (Society for Traveling Art Exhibitions) - 0.004314276581615038;\n",
      "Mir Iskusstva (World of Art) - 0.004246519033992509;\n",
      "Pre-Raphaelite Brotherhood - 0.004188353203628785;\n",
      "Degenerate art (exhibition, held by the Nazis in Munich in 1937,  named to inflame public opinion against modernism) - 0.0039204346313882745;\n"
     ]
    }
   ],
   "source": [
    "# Select nodes that are schools and artists\n",
    "list_schools = [node_id for node_id, attrs in G.nodes(data=True) if attrs.get('type') == \"school\"]\n",
    "pagerank_school, subgraph_school = get_influence(\"school\")\n",
    "ftr_nodes = {key: value for key, value in pagerank_school.items() if key in list_schools}\n",
    "print_top_nodes(ftr_nodes,10)"
   ]
  },
  {
   "cell_type": "code",
   "execution_count": 46,
   "metadata": {},
   "outputs": [],
   "source": [
    "# Save subgraph of schools to plot it\n",
    "nx.set_node_attributes(subgraph_school, pagerank_school, 'pagerank')\n",
    "nx.write_graphml(subgraph_school, \"subgraph_school_influence.graphml\")"
   ]
  },
  {
   "cell_type": "markdown",
   "metadata": {},
   "source": [
    "Finding the most influential intitutions"
   ]
  },
  {
   "cell_type": "code",
   "execution_count": 47,
   "metadata": {},
   "outputs": [
    {
     "name": "stdout",
     "output_type": "stream",
     "text": [
      "École des Beaux-Arts - 0.013253018179593724;\n",
      "Guild of Saint Luke - 0.007742991437762652;\n",
      "Académie Julian - 0.007090057475533044;\n",
      "Art Students League of New York - 0.005807633700014834;\n",
      "Imperial Academy of Arts - 0.005674034714767306;\n",
      "Akademie der Bildenden Künste München (Munich Academy) - 0.00544639871037271;\n",
      "Royal Academy of Arts (RA) - 0.005292494142867543;\n",
      "Self-taught - 0.004778175613930012;\n",
      "Kunstakademie Düsseldorf - 0.004148068778954375;\n",
      "National Academy of Visual Arts and Architecture - 0.003928693320202872;\n"
     ]
    }
   ],
   "source": [
    "# Select nodes that are institutions and artists\n",
    "list_intitution = [node_id for node_id, attrs in G.nodes(data=True) if attrs.get('type') == \"institution\"]\n",
    "pagerank_institution, subgraph_institution = get_influence(\"institution\")\n",
    "ftr_nodes = {key: value for key, value in pagerank_institution.items() if key in list_intitution}\n",
    "print_top_nodes(ftr_nodes,10)"
   ]
  },
  {
   "cell_type": "code",
   "execution_count": 48,
   "metadata": {},
   "outputs": [],
   "source": [
    "# Save subgraph of intitution to plot it\n",
    "nx.set_node_attributes(subgraph_institution, pagerank_institution, 'pagerank')\n",
    "nx.write_graphml(subgraph_institution, \"subgraph_institution_influence.graphml\")"
   ]
  },
  {
   "cell_type": "markdown",
   "metadata": {},
   "source": [
    "### Communities"
   ]
  },
  {
   "cell_type": "markdown",
   "metadata": {},
   "source": [
    "Finding communities of artists"
   ]
  },
  {
   "cell_type": "code",
   "execution_count": 50,
   "metadata": {},
   "outputs": [
    {
     "data": {
      "text/plain": [
       "519"
      ]
     },
     "execution_count": 50,
     "metadata": {},
     "output_type": "execute_result"
    }
   ],
   "source": [
    "community = nx.community.louvain_communities(G, seed=123)\n",
    "len(community)"
   ]
  },
  {
   "cell_type": "code",
   "execution_count": 51,
   "metadata": {},
   "outputs": [],
   "source": [
    "biggest_community = max(community, key=lambda d: len(d))"
   ]
  },
  {
   "cell_type": "code",
   "execution_count": 52,
   "metadata": {},
   "outputs": [
    {
     "data": {
      "text/plain": [
       "142"
      ]
     },
     "execution_count": 52,
     "metadata": {},
     "output_type": "execute_result"
    }
   ],
   "source": [
    "len(biggest_community)"
   ]
  },
  {
   "cell_type": "code",
   "execution_count": 53,
   "metadata": {},
   "outputs": [],
   "source": [
    "# Add community labels as node attributes to all graph\n",
    "# community = nx.community.louvain_communities(G, seed=123)\n",
    "# Create a dictionary mapping each node to a community\n",
    "dic_comm = {}\n",
    "for idx, comm in enumerate(community):\n",
    "    for element in comm:\n",
    "        dic_comm[element] = idx\n",
    "\n",
    "# Add community index as node attributes\n",
    "nx.set_node_attributes(G, dic_comm, 'community')"
   ]
  },
  {
   "cell_type": "markdown",
   "metadata": {},
   "source": [
    "The Louvain algorithm of community detection was able to find 519 communites with the biggest one containing 142 nodes."
   ]
  },
  {
   "cell_type": "markdown",
   "metadata": {},
   "source": [
    "### Visualization"
   ]
  },
  {
   "cell_type": "markdown",
   "metadata": {},
   "source": [
    "All the visulazation was made using the Citoscape software, so along the notebook several files (.graphml) were saved in order to it be open in the software."
   ]
  },
  {
   "cell_type": "markdown",
   "metadata": {},
   "source": [
    "Saving files"
   ]
  },
  {
   "cell_type": "code",
   "execution_count": 54,
   "metadata": {},
   "outputs": [],
   "source": [
    "# Export the graph to GraphML format\n",
    "nx.write_graphml(G, \"main_graph.graphml\")"
   ]
  },
  {
   "cell_type": "code",
   "execution_count": 63,
   "metadata": {},
   "outputs": [],
   "source": [
    "# Export the graph to GraphML format\n",
    "outgoing_neighbors = list(G.successors(\"/en/henri-matisse\"))\n",
    "incoming_neighbors = list(G.predecessors(\"/en/henri-matisse\"))\n",
    "connected_nodes = list(set(outgoing_neighbors + incoming_neighbors + [\"/en/henri-matisse\"]))\n",
    "matisse_subgraph = G.subgraph(connected_nodes)\n",
    "nx.write_graphml(matisse_subgraph, \"subgraph_matisse.graphml\")"
   ]
  }
 ],
 "metadata": {
  "kernelspec": {
   "display_name": "data_science",
   "language": "python",
   "name": "python3"
  },
  "language_info": {
   "codemirror_mode": {
    "name": "ipython",
    "version": 3
   },
   "file_extension": ".py",
   "mimetype": "text/x-python",
   "name": "python",
   "nbconvert_exporter": "python",
   "pygments_lexer": "ipython3",
   "version": "3.9.17"
  }
 },
 "nbformat": 4,
 "nbformat_minor": 2
}
